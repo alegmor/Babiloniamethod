{
 "cells": [
  {
   "cell_type": "markdown",
   "metadata": {
    "id": "bRGByvXQnx4U"
   },
   "source": [
    "# <center> <span style=\"color:black\">        Curso de Python, ML aplicado a transferencia de calor</span> </center> \n",
    "###  <center> <span style=\"color:DarkBlue\">          Tarea 1. Función que calcula la raíz cuadrada de un número  </span>  </center>\n",
    "##  <center> <span style=\"color:DarkBlue\"> Janette Alejandra García Morales</span>  </center>\n",
    "##  <center> <span style=\"color:DarkBlue\">jagm@ier.unam.mx</span>  </center>\n",
    "##  <center> <span style=\"color:DarkBlue\"> Septiembre del 2022</span>  </center>\n",
    "\n",
    "##  Contenido\n",
    "1. <span style=\"color:DarkBlue\">Planteamiento del problema</span>\n",
    "2. <span style=\"color:DarkBlue\">Planteamiento de la solución</span>\n",
    "3. <span style=\"color:DarkBlue\">Ejemplo de ejecución </span>\n",
    "4. <span style=\"color:DarkBlue\">Discusión </span>\n",
    "5. <span style=\"color:DarkBlue\">Referencias</span>\n",
    "\n",
    "\n",
    "## <span style=\"color:black\"> 1. Planteamiento del problema</span>\n",
    "Escribir una función que calcule la aproximación a la raíz cuadrada de un número n: Raiz(n)\n",
    "\n",
    "## <span style=\"color:black\"> 2. Planteamiento de la solución</span>\n",
    "\n",
    "Se toma como referencia la aproximación de raíces cuadradas que usaban los babilonios, dada por\n",
    "\n",
    "$$x_{n+1}=\\frac{1}{2} \\left(x_n + \\frac{x}{x_n} \\right)$$.\n",
    "\n",
    "En lo que sigue se demostrará que $x_n \\to \\sqrt{x}$.\n",
    "\n",
    "Se sugiere que el valor de $x_0$ sea el entero más cercano a la raíz cuadrada, en este caso tomaremos $x_0=0.1$.\n",
    "\n",
    "El código es:\n"
   ]
  },
  {
   "cell_type": "code",
   "execution_count": 1,
   "metadata": {
    "code_folding": [],
    "id": "oFMdDWhFnx4Z",
    "scrolled": true
   },
   "outputs": [
    {
     "name": "stdout",
     "output_type": "stream",
     "text": [
      "La función calcula con n términos la aproximación a la raíz cuadrada del número S\n"
     ]
    },
    {
     "data": {
      "application/vnd.jupyter.widget-view+json": {
       "model_id": "7ddc5edc85594a75801f08fc506c0878",
       "version_major": 2,
       "version_minor": 0
      },
      "text/plain": [
       "interactive(children=(IntSlider(value=50, description='S', step=2), IntSlider(value=8, description='n', max=15…"
      ]
     },
     "metadata": {},
     "output_type": "display_data"
    }
   ],
   "source": [
    "#Código y ejemplo de la solución\n",
    "\n",
    "#Librerias utilizadas\n",
    "import matplotlib.pyplot as plt\n",
    "import numpy as np\n",
    "import math\n",
    "import ipywidgets as widgets\n",
    "from ipywidgets import interact\n",
    "\n",
    "#Código de la solución y funciones\n",
    "\n",
    "def Rn(S,n):\n",
    "    x    = np.ones(n)\n",
    "    x0   = 0.1\n",
    "    x[0] = x0\n",
    "    for i in range(0,n-1):\n",
    "        x[i+1] = (1/2)*(x[i]+(S/x[i]))\n",
    "\n",
    "    plt.figure(figsize=(10,3))\n",
    "    plt.plot(x,\"o\")\n",
    "    plt.xlabel(\"$n$\")\n",
    "    plt.ylabel(\"$x_n+1$\")\n",
    "    plt.hlines(np.sqrt(S),0,n-1,linestyles='dashed',colors='black',label=\"$\\sqrt{S}$\")\n",
    "    plt.grid()\n",
    "    plt.legend()\n",
    "    plt.show()\n",
    "    return print(\"Encontramos que la aproximación de la raíz del número S={} con n={} términos, el error es e= {}\".format(S,n,np.round(x-np.sqrt(S))))\n",
    "\n",
    "# 3. Ejecutar para ver ejemplo\n",
    "print(\"La función calcula con n términos la aproximación a la raíz cuadrada del número S\")\n",
    "interact(Rn,S=(0,100,2),n=(1,15,1))\n",
    "plt.show()"
   ]
  },
  {
   "cell_type": "markdown",
   "metadata": {
    "id": "LcbBxL3cnx4b"
   },
   "source": [
    "###### <span style=\"color:DarkciónBlue\"> 4. Discusión</span>\n",
    "\n",
    "\\begin{itemize}\n",
    "\\item En la figura anterior se observa que mientras menor sea el número S, menor será en número de términos $n$ necesarios en la aproximación de la raiz.\n",
    "\\item El número de términos suficientes para obtener una buena aproximación es de $n\\geq6$, esto se muestra en la figura anterior en el calculo del  error.\n",
    "\\end{itemize}"
   ]
  },
  {
   "cell_type": "markdown",
   "metadata": {
    "id": "Vu8UCQ8Tnx4c"
   },
   "source": [
    "## <span style=\"color:DarkciónBlue\"> 5. Referencias</span>\n",
    "### Methods of computing square roots. (2022, 21 de Septiembre). Wikipedia, La enciclopedia libre. Fecha de consulta: 10:16, Septiembre 21, 2022 desde https://en.wikipedia.org/wiki/Methods_of_computing_square_roots.\n"
   ]
  },
  {
   "cell_type": "code",
   "execution_count": null,
   "metadata": {},
   "outputs": [],
   "source": []
  }
 ],
 "metadata": {
  "colab": {
   "provenance": []
  },
  "kernelspec": {
   "display_name": "Python 3 (ipykernel)",
   "language": "python",
   "name": "python3"
  },
  "language_info": {
   "codemirror_mode": {
    "name": "ipython",
    "version": 3
   },
   "file_extension": ".py",
   "mimetype": "text/x-python",
   "name": "python",
   "nbconvert_exporter": "python",
   "pygments_lexer": "ipython3",
   "version": "3.8.10"
  },
  "latex_envs": {
   "LaTeX_envs_menu_present": true,
   "autoclose": false,
   "autocomplete": true,
   "bibliofile": "biblio.bib",
   "cite_by": "apalike",
   "current_citInitial": 1,
   "eqLabelWithNumbers": true,
   "eqNumInitial": 1,
   "hotkeys": {
    "equation": "Ctrl-E",
    "itemize": "Ctrl-I"
   },
   "labels_anchors": false,
   "latex_user_defs": false,
   "report_style_numbering": false,
   "user_envs_cfg": false
  },
  "varInspector": {
   "cols": {
    "lenName": 16,
    "lenType": 16,
    "lenVar": 40
   },
   "kernels_config": {
    "python": {
     "delete_cmd_postfix": "",
     "delete_cmd_prefix": "del ",
     "library": "var_list.py",
     "varRefreshCmd": "print(var_dic_list())"
    },
    "r": {
     "delete_cmd_postfix": ") ",
     "delete_cmd_prefix": "rm(",
     "library": "var_list.r",
     "varRefreshCmd": "cat(var_dic_list()) "
    }
   },
   "types_to_exclude": [
    "module",
    "function",
    "builtin_function_or_method",
    "instance",
    "_Feature"
   ],
   "window_display": false
  }
 },
 "nbformat": 4,
 "nbformat_minor": 1
}
